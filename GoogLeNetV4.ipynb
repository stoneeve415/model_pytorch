{
 "cells": [
  {
   "cell_type": "markdown",
   "metadata": {},
   "source": [
    "# GoogLeNet V4"
   ]
  },
  {
   "cell_type": "markdown",
   "metadata": {},
   "source": [
    "<img src=\"imgs/googlenetv4.png\">"
   ]
  },
  {
   "cell_type": "markdown",
   "metadata": {},
   "source": [
    "<img src=\"imgs/googlenetv4*.png\">"
   ]
  },
  {
   "cell_type": "code",
   "execution_count": 38,
   "metadata": {},
   "outputs": [],
   "source": [
    "import torch\n",
    "import torch.nn as nn\n",
    "import torch.nn.functional as F"
   ]
  },
  {
   "cell_type": "code",
   "execution_count": 39,
   "metadata": {},
   "outputs": [],
   "source": [
    "class Stem(nn.Module):\n",
    "    def __init__(self):\n",
    "        super(Stem, self).__init__()\n",
    "        self.conv1 = nn.Conv2d(in_channels=3, out_channels=32, kernel_size=3, stride=2)\n",
    "        self.conv2 = nn.Conv2d(in_channels=32, out_channels=32, kernel_size=3)\n",
    "        self.conv3 = nn.Conv2d(in_channels=32, out_channels=64, kernel_size=3, padding=1)\n",
    "        self.conv4_1 =nn.MaxPool2d(kernel_size=3, stride=2)\n",
    "        self.conv4_2 = nn.Conv2d(in_channels=64, out_channels=96, kernel_size=3, stride=2)\n",
    "        self.conv5_1 = nn.Sequential(nn.Conv2d(in_channels=160,out_channels=64, kernel_size=1),\n",
    "                                            nn.Conv2d(in_channels=64, out_channels=96, kernel_size=3))\n",
    "        self.conv5_2 = nn.Sequential(nn.Conv2d(in_channels=160, out_channels=64, kernel_size=1),\n",
    "                                           nn.Conv2d(in_channels=64, out_channels=64, kernel_size=(7,1),padding=(3,0)),\n",
    "                                           nn.Conv2d(in_channels=64, out_channels=64, kernel_size=(1,7),padding=(0,3)),\n",
    "                                           nn.Conv2d(in_channels=64, out_channels=96, kernel_size=3),\n",
    "                                           )\n",
    "        self.conv6_1 = nn.Conv2d(in_channels=192, out_channels=192, kernel_size=3, stride=2)\n",
    "        self.conv6_2 = nn.MaxPool2d(kernel_size=3, stride=2)\n",
    "    \n",
    "    def forward(self, x):\n",
    "        out = self.conv1(x)\n",
    "        out = self.conv2(out)\n",
    "        out = self.conv3(out)\n",
    "        out = torch.cat([self.conv4_1(out), self.conv4_2(out)], 1)\n",
    "        out = torch.cat([self.conv5_1(out), self.conv5_2(out)], 1)\n",
    "        out = torch.cat([self.conv6_1(out), self.conv6_2(out)], 1)\n",
    "        return out\n",
    "        "
   ]
  },
  {
   "cell_type": "code",
   "execution_count": 40,
   "metadata": {},
   "outputs": [
    {
     "name": "stdout",
     "output_type": "stream",
     "text": [
      "torch.Size([1, 384, 35, 35])\n"
     ]
    }
   ],
   "source": [
    "device = torch.device(\"cuda:0\" if torch.cuda.is_available() else \"cpu\")\n",
    "input_data = torch.randn(1,3,299,299)\n",
    "net = Stem()\n",
    "net.to(device)\n",
    "input_data = input_data.to(device)\n",
    "output = net(input_data)\n",
    "print(output.size())"
   ]
  },
  {
   "cell_type": "code",
   "execution_count": 42,
   "metadata": {},
   "outputs": [],
   "source": [
    "class InceptionV4A(nn.Module):\n",
    "    def __init__(self):\n",
    "        super(InceptionV4A, self).__init__()\n",
    "        self.conv1_1 = nn.AvgPool2d(kernel_size=3, stride=1, padding=1)\n",
    "        self.conv1_2 = nn.Conv2d(in_channels=384, out_channels=96, kernel_size=1)\n",
    "        self.conv2 = nn.Conv2d(in_channels=384, out_channels=96, kernel_size=1)\n",
    "        self.conv3_1 = nn.Conv2d(in_channels=384, out_channels=64, kernel_size=1)\n",
    "        self.conv3_2 = nn.Conv2d(in_channels=64, out_channels=96, kernel_size=3, padding=1)\n",
    "        self.conv4_1 = nn.Conv2d(in_channels=384, out_channels=64, kernel_size=1)\n",
    "        self.conv4_2 = nn.Conv2d(in_channels=64, out_channels=96, kernel_size=3, padding=1)\n",
    "        self.conv4_3 = nn.Conv2d(in_channels=96, out_channels=96, kernel_size=3, padding=1)\n",
    "    def forward(self, x):\n",
    "        out1 = self.conv1_2(self.conv1_1(x))\n",
    "        out2 = self.conv2(x)\n",
    "        out3 = self.conv3_2(self.conv3_1(x))\n",
    "        out4 = self.conv4_3(self.conv4_2(self.conv4_1(x)))\n",
    "        output = torch.cat([out1, out2, out3, out4], 1)\n",
    "        return output\n",
    "        "
   ]
  },
  {
   "cell_type": "code",
   "execution_count": 43,
   "metadata": {},
   "outputs": [
    {
     "name": "stdout",
     "output_type": "stream",
     "text": [
      "torch.Size([1, 384, 35, 35])\n"
     ]
    }
   ],
   "source": [
    "device = torch.device(\"cuda:0\" if torch.cuda.is_available() else \"cpu\")\n",
    "input_data = torch.randn(1,384,35,35)\n",
    "net = InceptionV4A()\n",
    "net.to(device)\n",
    "input_data = input_data.to(device)\n",
    "output = net(input_data)\n",
    "print(output.size())"
   ]
  },
  {
   "cell_type": "code",
   "execution_count": 46,
   "metadata": {},
   "outputs": [],
   "source": [
    "class InceptionV4B(nn.Module):\n",
    "    def __init__(self):\n",
    "        super(InceptionV4B, self).__init__()\n",
    "        self.conv1_1 = nn.AvgPool2d(kernel_size=3, stride=1, padding=1)\n",
    "        self.conv1_2 = nn.Conv2d(in_channels=1024, out_channels=128, kernel_size=1)\n",
    "        self.conv2 = nn.Conv2d(in_channels=1024, out_channels=384, kernel_size=1)\n",
    "        self.conv3_1 = nn.Conv2d(in_channels=1024, out_channels=192, kernel_size=1)\n",
    "        self.conv3_2 = nn.Conv2d(in_channels=192, out_channels=224, kernel_size=(1,7), padding=(0,3))\n",
    "        self.conv3_3 = nn.Conv2d(in_channels=224, out_channels=256, kernel_size=(1,7), padding=(0,3))\n",
    "        self.conv4_1 = nn.Conv2d(in_channels=1024, out_channels=192, kernel_size=1)\n",
    "        self.conv4_2 = nn.Conv2d(in_channels=192, out_channels=192, kernel_size=(1,7), padding=(0,3))\n",
    "        self.conv4_3 = nn.Conv2d(in_channels=192, out_channels=224, kernel_size=(7,1), padding=(3,0))\n",
    "        self.conv4_4 = nn.Conv2d(in_channels=224, out_channels=224, kernel_size=(1,7), padding=(0,3))\n",
    "        self.conv4_5 = nn.Conv2d(in_channels=224, out_channels=256, kernel_size=(7,1), padding=(3,0))\n",
    "        self.conv4 = nn.Sequential(self.conv4_1, self.conv4_2, self.conv4_3, self.conv4_4, self.conv4_5)\n",
    "    def forward(self, x):\n",
    "        out1 = self.conv1_2(self.conv1_1(x))\n",
    "        out2 = self.conv2(x)\n",
    "        out3 = self.conv3_3(self.conv3_2(self.conv3_1(x)))\n",
    "        out4 = self.conv4(x)\n",
    "        output = torch.cat([out1, out2, out3, out4], 1)\n",
    "        return output\n",
    "        "
   ]
  },
  {
   "cell_type": "code",
   "execution_count": 47,
   "metadata": {},
   "outputs": [
    {
     "name": "stdout",
     "output_type": "stream",
     "text": [
      "torch.Size([1, 1024, 17, 17])\n"
     ]
    }
   ],
   "source": [
    "device = torch.device(\"cuda:0\" if torch.cuda.is_available() else \"cpu\")\n",
    "input_data = torch.randn(1,1024,17,17)\n",
    "net = InceptionV4B()\n",
    "net.to(device)\n",
    "input_data = input_data.to(device)\n",
    "output = net(input_data)\n",
    "print(output.size())"
   ]
  },
  {
   "cell_type": "code",
   "execution_count": 48,
   "metadata": {},
   "outputs": [],
   "source": [
    "class InceptionV4C(nn.Module):\n",
    "    def __init__(self):\n",
    "        super(InceptionV4C, self).__init__()\n",
    "        self.conv1_1 = nn.AvgPool2d(kernel_size=3, stride=1, padding=1)\n",
    "        self.conv1_2 = nn.Conv2d(in_channels=1536, out_channels=256, kernel_size=1)\n",
    "        self.conv2 = nn.Conv2d(in_channels=1536, out_channels=256, kernel_size=1)\n",
    "        self.conv3_1 = nn.Conv2d(in_channels=1536, out_channels=384, kernel_size=1)\n",
    "        self.conv3_2 = nn.Conv2d(in_channels=384, out_channels=256, kernel_size=(1,3), padding=(0,1))\n",
    "        self.conv3_3 = nn.Conv2d(in_channels=384, out_channels=256, kernel_size=(3,1), padding=(1,0))\n",
    "        self.conv4_1 = nn.Conv2d(in_channels=1536, out_channels=384, kernel_size=1)\n",
    "        self.conv4_2 = nn.Conv2d(in_channels=384, out_channels=448, kernel_size=(1,3), padding=(0,1))\n",
    "        self.conv4_3 = nn.Conv2d(in_channels=448, out_channels=512, kernel_size=(3,1), padding=(1,0))\n",
    "        self.conv4_4 = nn.Conv2d(in_channels=512, out_channels=256, kernel_size=(3,1), padding=(1,0))\n",
    "        self.conv4_5 = nn.Conv2d(in_channels=512, out_channels=256, kernel_size=(1,3), padding=(0,1))\n",
    "    def forward(self, x):\n",
    "        out1 = self.conv1_2(self.conv1_1(x))\n",
    "        out2 = self.conv2(x)\n",
    "        out3_1 = self.conv3_2(self.conv3_1(x))\n",
    "        out3_2 = self.conv3_3(self.conv3_1(x))\n",
    "        out4_1 = self.conv4_4(self.conv4_3(self.conv4_2(self.conv4_1(x))))\n",
    "        out4_2 = self.conv4_5(self.conv4_3(self.conv4_2(self.conv4_1(x))))\n",
    "        output = torch.cat([out1, out2, out3_1, out3_2, out4_1, out4_2], 1)\n",
    "        return output\n",
    "        "
   ]
  },
  {
   "cell_type": "code",
   "execution_count": 49,
   "metadata": {},
   "outputs": [
    {
     "name": "stdout",
     "output_type": "stream",
     "text": [
      "torch.Size([1, 1536, 8, 8])\n"
     ]
    }
   ],
   "source": [
    "device = torch.device(\"cuda:0\" if torch.cuda.is_available() else \"cpu\")\n",
    "input_data = torch.randn(1,1536,8,8)\n",
    "net = InceptionV4C()\n",
    "net.to(device)\n",
    "input_data = input_data.to(device)\n",
    "output = net(input_data)\n",
    "print(output.size())"
   ]
  },
  {
   "cell_type": "code",
   "execution_count": 53,
   "metadata": {},
   "outputs": [],
   "source": [
    "class ReductionA(nn.Module):\n",
    "    def __init__(self):\n",
    "        super(ReductionA, self).__init__()\n",
    "        self.conv1 = nn.AvgPool2d(kernel_size=3, stride=2)\n",
    "        self.conv2 = nn.Conv2d(in_channels=384, out_channels=384, kernel_size=3, stride=2)\n",
    "        self.conv3_1 = nn.Conv2d(in_channels=384, out_channels=192, kernel_size=1)\n",
    "        self.conv3_2 = nn.Conv2d(in_channels=192, out_channels=224, kernel_size=3, padding=1)\n",
    "        self.conv3_3 = nn.Conv2d(in_channels=224, out_channels=256, kernel_size=3, stride=2)\n",
    "    def forward(self, x):\n",
    "        out1 = self.conv1(x)\n",
    "        out2 = self.conv2(x)\n",
    "        out3 = self.conv3_3(self.conv3_2(self.conv3_1(x)))\n",
    "        output = torch.cat([out1, out2, out3], 1)\n",
    "        return output\n",
    "        "
   ]
  },
  {
   "cell_type": "code",
   "execution_count": 54,
   "metadata": {},
   "outputs": [
    {
     "name": "stdout",
     "output_type": "stream",
     "text": [
      "torch.Size([1, 1024, 17, 17])\n"
     ]
    }
   ],
   "source": [
    "device = torch.device(\"cuda:0\" if torch.cuda.is_available() else \"cpu\")\n",
    "input_data = torch.randn(1,384,35,35)\n",
    "net = ReductionA()\n",
    "net.to(device)\n",
    "input_data = input_data.to(device)\n",
    "output = net(input_data)\n",
    "print(output.size())"
   ]
  },
  {
   "cell_type": "code",
   "execution_count": 55,
   "metadata": {},
   "outputs": [],
   "source": [
    "class ReductionB(nn.Module):\n",
    "    def __init__(self):\n",
    "        super(ReductionB, self).__init__()\n",
    "        self.conv1 = nn.AvgPool2d(kernel_size=3, stride=2)\n",
    "        self.conv2_1 = nn.Conv2d(in_channels=1024, out_channels=192, kernel_size=1)\n",
    "        self.conv2_2 = nn.Conv2d(in_channels=192, out_channels=192, kernel_size=3, stride=2)\n",
    "        self.conv3_1 = nn.Conv2d(in_channels=1024, out_channels=256, kernel_size=1)\n",
    "        self.conv3_2 = nn.Conv2d(in_channels=256, out_channels=256, kernel_size=(1,7), padding=(0,3))\n",
    "        self.conv3_3 = nn.Conv2d(in_channels=256, out_channels=320, kernel_size=(7,1), padding=(3,0))\n",
    "        self.conv3_4 = nn.Conv2d(in_channels=320, out_channels=320, kernel_size=3, stride=2)\n",
    "        self.conv3 = nn.Sequential(self.conv3_1, self.conv3_2, self.conv3_3, self.conv3_4)\n",
    "    def forward(self, x):\n",
    "        out1 = self.conv1(x)\n",
    "        out2 = self.conv2_2(self.conv2_1(x))\n",
    "        out3 = self.conv3(x)\n",
    "        output = torch.cat([out1, out2, out3], 1)\n",
    "        return output\n",
    "        "
   ]
  },
  {
   "cell_type": "code",
   "execution_count": 56,
   "metadata": {},
   "outputs": [
    {
     "name": "stdout",
     "output_type": "stream",
     "text": [
      "torch.Size([1, 1536, 8, 8])\n"
     ]
    }
   ],
   "source": [
    "device = torch.device(\"cuda:0\" if torch.cuda.is_available() else \"cpu\")\n",
    "input_data = torch.randn(1,1024,17,17)\n",
    "net = ReductionB()\n",
    "net.to(device)\n",
    "input_data = input_data.to(device)\n",
    "output = net(input_data)\n",
    "print(output.size())"
   ]
  },
  {
   "cell_type": "code",
   "execution_count": 71,
   "metadata": {},
   "outputs": [],
   "source": [
    "class GoogLeNetV4(nn.Module):\n",
    "    def __init__(self):\n",
    "        super(GoogLeNetV4, self).__init__()\n",
    "        self.stem = Stem()\n",
    "        \n",
    "        self.inception_A1 = InceptionV4A()\n",
    "        self.inception_A2 = InceptionV4A()\n",
    "        self.inception_A3 = InceptionV4A()\n",
    "        self.inception_A4 = InceptionV4A()\n",
    "        self.inception_A = nn.Sequential(self.inception_A1, self.inception_A2, self.inception_A3, self.inception_A4)\n",
    "        \n",
    "        self.reduction_A = ReductionA()\n",
    "        \n",
    "        self.inception_B1 = InceptionV4B()\n",
    "        self.inception_B2 = InceptionV4B()\n",
    "        self.inception_B3 = InceptionV4B()\n",
    "        self.inception_B4 = InceptionV4B()\n",
    "        self.inception_B5 = InceptionV4B()\n",
    "        self.inception_B6 = InceptionV4B()\n",
    "        self.inception_B7 = InceptionV4B()\n",
    "        self.inception_B = nn.Sequential(self.inception_B1, self.inception_B2, self.inception_B3, \n",
    "                                         self.inception_B4, self.inception_B5, self.inception_B6, self.inception_B7)\n",
    "        \n",
    "        self.reduction_B = ReductionB()\n",
    "        \n",
    "        self.inception_C1 = InceptionV4C()\n",
    "        self.inception_C2 = InceptionV4C()\n",
    "        self.inception_C3 = InceptionV4C()\n",
    "        self.inception_C = nn.Sequential(self.inception_C1, self.inception_C2, self.inception_C3)\n",
    "\n",
    "        self.pool = nn.AvgPool2d(kernel_size=7, stride=1, padding=3)\n",
    "        \n",
    "        self.dropout = nn.Dropout(0.8)\n",
    "\n",
    "    def forward(self, x):\n",
    "        network = self.stem(x)\n",
    "        print('stem: ',network.size())\n",
    "        network = self.inception_A(network)\n",
    "        print('InceptionV4A: ',network.size())\n",
    "        network = self.reduction_A(network)\n",
    "        print('ReductionA: ',network.size())\n",
    "        network = self.inception_B(network)\n",
    "        print('InceptionV4B: ',network.size())\n",
    "        network = self.reduction_B(network)\n",
    "        print('ReductionB: ',network.size())\n",
    "        network = self.inception_C(network)\n",
    "        print('InceptionV4C: ',network.size())\n",
    "        network = self.pool(network)\n",
    "        print('AvgPool2d: ',network.size())\n",
    "        network = self.dropout(network)\n",
    "        print('dropout: ',network.size())\n",
    "        return network"
   ]
  },
  {
   "cell_type": "code",
   "execution_count": 72,
   "metadata": {},
   "outputs": [
    {
     "name": "stdout",
     "output_type": "stream",
     "text": [
      "stem:  torch.Size([1, 384, 35, 35])\n",
      "InceptionV4A:  torch.Size([1, 384, 35, 35])\n",
      "ReductionA:  torch.Size([1, 1024, 17, 17])\n",
      "InceptionV4B:  torch.Size([1, 1024, 17, 17])\n",
      "ReductionB:  torch.Size([1, 1536, 8, 8])\n",
      "InceptionV4C:  torch.Size([1, 1536, 8, 8])\n",
      "AvgPool2d:  torch.Size([1, 1536, 8, 8])\n",
      "dropout:  torch.Size([1, 1536, 8, 8])\n",
      "torch.Size([1, 1536, 8, 8])\n"
     ]
    }
   ],
   "source": [
    "device = torch.device(\"cuda:0\" if torch.cuda.is_available() else \"cpu\")\n",
    "input_data = torch.randn(1,3,299,299)\n",
    "net = GoogLeNetV4()\n",
    "net.to(device)\n",
    "input_data = input_data.to(device)\n",
    "output = net(input_data)\n",
    "print(output.size())"
   ]
  },
  {
   "cell_type": "code",
   "execution_count": 5,
   "metadata": {},
   "outputs": [],
   "source": []
  }
 ],
 "metadata": {
  "kernelspec": {
   "display_name": "Python 3",
   "language": "python",
   "name": "python3"
  },
  "language_info": {
   "codemirror_mode": {
    "name": "ipython",
    "version": 3
   },
   "file_extension": ".py",
   "mimetype": "text/x-python",
   "name": "python",
   "nbconvert_exporter": "python",
   "pygments_lexer": "ipython3",
   "version": "3.5.0"
  }
 },
 "nbformat": 4,
 "nbformat_minor": 2
}
