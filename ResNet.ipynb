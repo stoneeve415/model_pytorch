{
 "cells": [
  {
   "cell_type": "markdown",
   "metadata": {},
   "source": [
    "<img src=\"imgs/ResNet34.png\">"
   ]
  },
  {
   "cell_type": "markdown",
   "metadata": {},
   "source": [
    "<img src=\"imgs/ResNet.png\">"
   ]
  },
  {
   "cell_type": "code",
   "execution_count": 9,
   "metadata": {},
   "outputs": [],
   "source": [
    "import torch as t\n",
    "import torch.nn as nn"
   ]
  },
  {
   "cell_type": "code",
   "execution_count": 37,
   "metadata": {},
   "outputs": [],
   "source": [
    "class BlockA(nn.Module):\n",
    "    def __init__(self, in1, mid1, out1, strides=1):\n",
    "        super(BlockA, self).__init__()\n",
    "        self.strides = strides\n",
    "        self.conv1 = nn.Conv2d(in_channels=in1, out_channels=mid1, kernel_size=3, stride=strides, padding=1)\n",
    "        self.conv2 = nn.Conv2d(in_channels=mid1, out_channels=out1, kernel_size=3, padding=1)\n",
    "    def forward(self, x):\n",
    "        output = self.conv2(self.conv1(x))\n",
    "        if self.strides == 1:\n",
    "            output = output + x\n",
    "        return output\n",
    "\n",
    "    \n",
    "class BlockB(nn.Module):\n",
    "    def __init__(self, in1, mid1, mid2, out1, strides=1):\n",
    "        super(BlockB, self).__init__()\n",
    "        self.strides = strides\n",
    "        self.in1 = in1\n",
    "        self.conv1 = nn.Conv2d(in_channels=in1, out_channels=mid1, kernel_size=1, stride=strides)\n",
    "        self.conv2 = nn.Conv2d(in_channels=mid1, out_channels=mid2, kernel_size=3, padding=1)\n",
    "        self.conv3 = nn.Conv2d(in_channels=mid2, out_channels=out1, kernel_size=1)\n",
    "    def forward(self, x):\n",
    "        output = self.conv3(self.conv2(self.conv1(x)))\n",
    "        if self.strides == 1 and self.in1 == output.size():\n",
    "            output = output + x\n",
    "        return output"
   ]
  },
  {
   "cell_type": "code",
   "execution_count": 38,
   "metadata": {},
   "outputs": [
    {
     "name": "stdout",
     "output_type": "stream",
     "text": [
      "torch.Size([10, 256, 56, 56])\n"
     ]
    }
   ],
   "source": [
    "net = BlockB(256,64,64,256,1)\n",
    "input_data = t.randn(10, 256,  56, 56)\n",
    "output = net(input_data)\n",
    "print(output.size())"
   ]
  },
  {
   "cell_type": "code",
   "execution_count": 12,
   "metadata": {},
   "outputs": [],
   "source": [
    "class ResNet18(nn.Module):\n",
    "    def __init__(self):\n",
    "        super(ResNet18, self).__init__()\n",
    "        self.conv1 = nn.Conv2d(in_channels=3, out_channels=64, kernel_size=7, stride=2, padding=3)\n",
    "        self.pool2 = nn.MaxPool2d(kernel_size=3, stride=2, padding=1)\n",
    "        \n",
    "        self.block3 = nn.Sequential(BlockA(64,64,64,1),\n",
    "                                    BlockA(64,64,64,1) \n",
    "        )\n",
    "        \n",
    "        self.block4 = nn.Sequential(BlockA(64,128,128,2),\n",
    "                                    BlockA(128,128,128,1))\n",
    "        \n",
    "        self.block5 = nn.Sequential(BlockA(128,256,256,2),\n",
    "                                    BlockA(256,256,256,1))\n",
    "        \n",
    "        self.block6 = nn.Sequential(BlockA(256,512,512,2),\n",
    "                                    BlockA(512,512,512,1))\n",
    "        \n",
    "        self.pool7 = nn.AvgPool2d(kernel_size=3, stride=1, padding=1)\n",
    "        self.fc8 = nn.Linear(in_features=512*7*7,out_features=1000)\n",
    "        \n",
    "        \n",
    "    def forward(self, x):\n",
    "        x = self.conv1(x)\n",
    "        x = self.pool2(x)\n",
    "        x = self.block3(x)\n",
    "        x = self.block4(x)\n",
    "        x = self.block5(x)\n",
    "        x = self.block6(x)\n",
    "        x = self.pool7(x)\n",
    "        x = x.view(x.size()[0], -1)\n",
    "        x = self.fc8(x)\n",
    "        return x"
   ]
  },
  {
   "cell_type": "code",
   "execution_count": 13,
   "metadata": {},
   "outputs": [
    {
     "name": "stdout",
     "output_type": "stream",
     "text": [
      "torch.Size([10, 1000])\n"
     ]
    }
   ],
   "source": [
    "net = ResNet18()\n",
    "input_data = t.randn(10, 3,  224, 224)\n",
    "output = net(input_data)\n",
    "print(output.size())"
   ]
  },
  {
   "cell_type": "code",
   "execution_count": 14,
   "metadata": {},
   "outputs": [],
   "source": [
    "class ResNet34(nn.Module):\n",
    "    def __init__(self):\n",
    "        super(ResNet34, self).__init__()\n",
    "        self.conv1 = nn.Conv2d(in_channels=3, out_channels=64, kernel_size=7, stride=2, padding=3)\n",
    "        self.pool2 = nn.MaxPool2d(kernel_size=3, stride=2, padding=1)\n",
    "        \n",
    "        self.block3 = nn.Sequential(BlockA(64,64,64,1),\n",
    "                                    BlockA(64,64,64,1),\n",
    "                                    BlockA(64,64,64,1) \n",
    "        )\n",
    "        \n",
    "        self.block4 = nn.Sequential(BlockA(64,128,128,2),\n",
    "                                    BlockA(128,128,128,1),\n",
    "                                    BlockA(128,128,128,1),\n",
    "                                    BlockA(128,128,128,1))\n",
    "        \n",
    "        self.block5 = nn.Sequential(BlockA(128,256,256,2),\n",
    "                                    BlockA(256,256,256,1),\n",
    "                                    BlockA(256,256,256,1),\n",
    "                                    BlockA(256,256,256,1),\n",
    "                                    BlockA(256,256,256,1),\n",
    "                                    BlockA(256,256,256,1))\n",
    "        \n",
    "        self.block6 = nn.Sequential(BlockA(256,512,512,2),\n",
    "                                    BlockA(512,512,512,1),\n",
    "                                    BlockA(512,512,512,1))\n",
    "        \n",
    "        self.pool7 = nn.AvgPool2d(kernel_size=3, stride=1, padding=1)\n",
    "        self.fc8 = nn.Linear(in_features=512*7*7,out_features=1000)\n",
    "        \n",
    "        \n",
    "    def forward(self, x):\n",
    "        x = self.conv1(x)\n",
    "        x = self.pool2(x)\n",
    "        x = self.block3(x)\n",
    "        x = self.block4(x)\n",
    "        x = self.block5(x)\n",
    "        x = self.block6(x)\n",
    "        x = self.pool7(x)\n",
    "        x = x.view(x.size()[0], -1)\n",
    "        x = self.fc8(x)\n",
    "        return x"
   ]
  },
  {
   "cell_type": "code",
   "execution_count": 15,
   "metadata": {},
   "outputs": [
    {
     "name": "stdout",
     "output_type": "stream",
     "text": [
      "torch.Size([10, 1000])\n"
     ]
    }
   ],
   "source": [
    "net = ResNet34()\n",
    "input_data = t.randn(10, 3,  224, 224)\n",
    "output = net(input_data)\n",
    "print(output.size())"
   ]
  },
  {
   "cell_type": "code",
   "execution_count": 41,
   "metadata": {},
   "outputs": [],
   "source": [
    "class ResNet50(nn.Module):\n",
    "    def __init__(self):\n",
    "        super(ResNet50, self).__init__()\n",
    "        self.conv1 = nn.Conv2d(in_channels=3, out_channels=64, kernel_size=7, stride=2, padding=3)\n",
    "        self.pool2 = nn.MaxPool2d(kernel_size=3, stride=2, padding=1)\n",
    "        \n",
    "        self.block3 = nn.Sequential(BlockB(64,64,64,256,1),\n",
    "                                    BlockB(256,64,64,256,1),\n",
    "                                    BlockB(256,64,64,256,1)) \n",
    "        \n",
    "        self.block4 = nn.Sequential(BlockB(256,128,128,512,2),\n",
    "                                    BlockB(512,128,128,512,1),\n",
    "                                    BlockB(512,128,128,512,1),\n",
    "                                    BlockB(512,128,128,512,1))\n",
    "        \n",
    "        self.block5 = nn.Sequential(BlockB(512,256,256,1024,2),\n",
    "                                    BlockB(1024,256,256,1024,1),\n",
    "                                    BlockB(1024,256,256,1024,1),\n",
    "                                    BlockB(1024,256,256,1024,1),\n",
    "                                    BlockB(1024,256,256,1024,1),\n",
    "                                    BlockB(1024,256,256,1024,1))\n",
    "        \n",
    "        self.block6 = nn.Sequential(BlockB(1024,512,512,2048,2),\n",
    "                                    BlockB(2048,512,512,2048,1),\n",
    "                                    BlockB(2048,512,512,2048,1))\n",
    "        \n",
    "        self.pool7 = nn.AvgPool2d(kernel_size=3, stride=1, padding=1)\n",
    "        self.fc8 = nn.Linear(in_features=2048*7*7,out_features=1000)\n",
    "        \n",
    "        \n",
    "    def forward(self, x):\n",
    "        x = self.conv1(x)\n",
    "        x = self.pool2(x)\n",
    "        x = self.block3(x)\n",
    "        x = self.block4(x)\n",
    "        x = self.block5(x)\n",
    "        x = self.block6(x)\n",
    "        x = self.pool7(x)\n",
    "        x = x.view(x.size()[0], -1)\n",
    "        x = self.fc8(x)\n",
    "        return x"
   ]
  },
  {
   "cell_type": "code",
   "execution_count": 42,
   "metadata": {},
   "outputs": [
    {
     "name": "stdout",
     "output_type": "stream",
     "text": [
      "torch.Size([10, 1000])\n"
     ]
    }
   ],
   "source": [
    "net = ResNet50()\n",
    "input_data = t.randn(10, 3,  224, 224)\n",
    "output = net(input_data)\n",
    "print(output.size())"
   ]
  },
  {
   "cell_type": "code",
   "execution_count": null,
   "metadata": {},
   "outputs": [],
   "source": []
  }
 ],
 "metadata": {
  "kernelspec": {
   "display_name": "Python 3",
   "language": "python",
   "name": "python3"
  },
  "language_info": {
   "codemirror_mode": {
    "name": "ipython",
    "version": 3
   },
   "file_extension": ".py",
   "mimetype": "text/x-python",
   "name": "python",
   "nbconvert_exporter": "python",
   "pygments_lexer": "ipython3",
   "version": "3.5.0"
  }
 },
 "nbformat": 4,
 "nbformat_minor": 2
}
