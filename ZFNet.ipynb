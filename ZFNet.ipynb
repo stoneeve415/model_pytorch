{
 "cells": [
  {
   "cell_type": "markdown",
   "metadata": {},
   "source": [
    "<img src=\"imgs/ZFNet.png\">"
   ]
  },
  {
   "cell_type": "code",
   "execution_count": 1,
   "metadata": {},
   "outputs": [],
   "source": [
    "import torch as t\n",
    "import torch.nn as nn\n",
    "import torch.nn.functional as F\n"
   ]
  },
  {
   "cell_type": "code",
   "execution_count": 2,
   "metadata": {},
   "outputs": [],
   "source": [
    "class ZFNet(nn.Module):\n",
    "    def __init__(self):\n",
    "        super(ZFNet, self).__init__()\n",
    "        self.conv1 = nn.Conv2d(in_channels=3, out_channels=96, kernel_size=(7,7), stride=2, padding=3)\n",
    "        self.pool1 = nn.MaxPool2d(kernel_size=(3,3), stride=2, padding=1)\n",
    "        self.layer1 = nn.Sequential(self.conv1, self.pool1)\n",
    "        \n",
    "        self.conv2 = nn.Conv2d(in_channels=96, out_channels=256, kernel_size=(5,5), stride=2, padding=2)\n",
    "        self.pool2 = nn.MaxPool2d(kernel_size=(3,3), stride=2, padding=1)\n",
    "        self.layer2 = nn.Sequential(self.conv2, self.pool2)\n",
    "        \n",
    "        self.conv3 = nn.Conv2d(in_channels=256, out_channels=384, kernel_size=(3,3), stride=1, padding=1)\n",
    "        self.layer3 = nn.Sequential(self.conv3)\n",
    "        \n",
    "        self.conv4 = nn.Conv2d(in_channels=384, out_channels=384, kernel_size=(3,3), stride=1, padding=1)\n",
    "        self.layer4 = nn.Sequential(self.conv4)\n",
    "        \n",
    "        self.conv5 = nn.Conv2d(in_channels=384, out_channels=256, kernel_size=(3,3), stride=1, padding=1)\n",
    "        self.layer5 = nn.Sequential(self.conv5)\n",
    "        \n",
    "        self.fc1 = nn.Linear(in_features=14*14*256, out_features=4096)\n",
    "        self.layer6 = nn.Sequential(self.fc1)\n",
    "        \n",
    "        self.fc2 = nn.Linear(in_features=4096, out_features=4096)\n",
    "        self.layer7 = nn.Sequential(self.fc2)\n",
    "        \n",
    "    \n",
    "    def forward(self, x):\n",
    "        x = self.layer5(self.layer4(self.layer3(self.layer2(self.layer1(x)))))\n",
    "        print(x.size())\n",
    "        x = x.view(x.size()[0], -1)\n",
    "        x = self.layer7(self.layer6(x))\n",
    "        return x\n",
    "        "
   ]
  },
  {
   "cell_type": "code",
   "execution_count": 3,
   "metadata": {},
   "outputs": [
    {
     "name": "stdout",
     "output_type": "stream",
     "text": [
      "torch.Size([1, 256, 14, 14])\n",
      "torch.Size([1, 4096])\n"
     ]
    }
   ],
   "source": [
    "net = ZFNet()\n",
    "input = t.randn(1, 3, 224, 224)\n",
    "out = net(input)\n",
    "print(out.size())"
   ]
  },
  {
   "cell_type": "code",
   "execution_count": null,
   "metadata": {},
   "outputs": [],
   "source": []
  },
  {
   "cell_type": "code",
   "execution_count": null,
   "metadata": {},
   "outputs": [],
   "source": []
  }
 ],
 "metadata": {
  "kernelspec": {
   "display_name": "Python 3",
   "language": "python",
   "name": "python3"
  },
  "language_info": {
   "codemirror_mode": {
    "name": "ipython",
    "version": 3
   },
   "file_extension": ".py",
   "mimetype": "text/x-python",
   "name": "python",
   "nbconvert_exporter": "python",
   "pygments_lexer": "ipython3",
   "version": "3.5.0"
  }
 },
 "nbformat": 4,
 "nbformat_minor": 2
}
