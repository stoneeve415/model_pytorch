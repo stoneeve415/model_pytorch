{
 "cells": [
  {
   "cell_type": "markdown",
   "metadata": {},
   "source": [
    "<img src=\"imgs/AlexNet.png\">"
   ]
  },
  {
   "cell_type": "code",
   "execution_count": null,
   "metadata": {},
   "outputs": [],
   "source": [
    "import torch as t\n",
    "import torch.nn as nn\n",
    "import torch.nn.Functional as F\n",
    "import torchvision as tv\n",
    "import torchvision.transforms as transforms\n",
    "from torchvision.transforms import ToPILImage\n",
    "import torch.optim as optim"
   ]
  },
  {
   "cell_type": "code",
   "execution_count": 19,
   "metadata": {},
   "outputs": [],
   "source": [
    "class LRN(nn.Module):\n",
    "    def __init__(self, local_size=1, alpha=1.0, beta=0.75, ACROSS_CHANNELS=False):\n",
    "        super(LRN, self).__init__()\n",
    "        self.ACROSS_CHANNELS = ACROSS_CHANNELS\n",
    "        if self.ACROSS_CHANNELS:\n",
    "            self.average=nn.AvgPool3d(kernel_size=(local_size, 1, 1), #0.2.0_4会报错，需要在最新的分支上AvgPool3d才有padding参数\n",
    "                    stride=1,\n",
    "                    padding=(int((local_size-1.0)/2), 0, 0)) \n",
    "        else:\n",
    "            self.average=nn.AvgPool2d(kernel_size=local_size,\n",
    "                    stride=1,\n",
    "                    padding=int((local_size-1.0)/2))\n",
    "        self.alpha = alpha\n",
    "        self.beta = beta\n",
    "    \n",
    "    \n",
    "    def forward(self, x):\n",
    "        if self.ACROSS_CHANNELS:\n",
    "            div = x.pow(2).unsqueeze(1)\n",
    "            div = self.average(div).squeeze(1)\n",
    "            div = div.mul(self.alpha).add(1.0).pow(self.beta)#这里的1.0即为bias\n",
    "        else:\n",
    "            div = x.pow(2)\n",
    "            div = self.average(div)\n",
    "            div = div.mul(self.alpha).add(1.0).pow(self.beta)\n",
    "        x = x.div(div)\n",
    "        return x"
   ]
  },
  {
   "cell_type": "code",
   "execution_count": 48,
   "metadata": {},
   "outputs": [],
   "source": [
    "class AlexNet(nn.Module):\n",
    "    def __init__(self):\n",
    "        super(AlexNet, self).__init__()\n",
    "        self.conv1 = nn.Conv2d(in_channels=3, out_channels=96, kernel_size=(11, 11), stride=4)\n",
    "        self.activate1 = nn.ReLU(inplace=True)\n",
    "        self.pool1 = nn.MaxPool2d(kernel_size=3, stride=2)\n",
    "        self.LRN1 = LRN(local_size=5, alpha=1e-4, beta=0.75, ACROSS_CHANNELS=True)    \n",
    "        self.layer1 = nn.Sequential(self.conv1, self.activate1,self.pool1, self.LRN1)\n",
    "        \n",
    "\n",
    "        self.conv2 = nn.Conv2d(in_channels=96, out_channels=256, kernel_size=(5, 5), stride=1, groups=2, padding=2)\n",
    "        self.activate2 = nn.ReLU(inplace=True)\n",
    "        self.pool2 = nn.MaxPool2d(kernel_size=3, stride=2)\n",
    "        self.LRN2 = LRN(local_size=5, alpha=1e-4, beta=0.75, ACROSS_CHANNELS=True)\n",
    "        self.layer2 = nn.Sequential(self.conv2, self.activate2, self.pool2, self.LRN2)\n",
    "        \n",
    "        self.conv3 = nn.Conv2d(in_channels=256, out_channels=384, kernel_size=(3, 3), stride=1, padding=1)\n",
    "        self.activate3 = nn.ReLU(inplace=True)\n",
    "        self.layer3 = nn.Sequential(self.conv3, self.activate3)\n",
    "        \n",
    "        self.conv4 = nn.Conv2d(in_channels=384, out_channels=384,kernel_size=(3,3), stride=1, padding=1)\n",
    "        self.activate4 = nn.ReLU(inplace=True)\n",
    "        self.layer4 = nn.Sequential(self.conv4, self.activate4)\n",
    "        \n",
    "        self.conv5 = nn.Conv2d(in_channels=384, out_channels=256, kernel_size=(3,3), stride=1, padding=1)\n",
    "        self.activate5 = nn.ReLU(inplace=True)\n",
    "        self.pool5 = nn.MaxPool2d(kernel_size=3, stride=2)\n",
    "        self.layer5 = nn.Sequential(self.conv5, self.activate5, self.pool5)\n",
    "        \n",
    "        self.fc1 = nn.Linear(in_features=6*6*256, out_features=4096)\n",
    "        self.activate6 = nn.ReLU(inplace=True)\n",
    "        self.dropout6 = nn.Dropout()\n",
    "        self.layer6 = nn.Sequential(self.fc1, self.activate6, self.dropout6)\n",
    "        \n",
    "        self.fc2 = nn.Linear(in_features=4096, out_features=4096)\n",
    "        self.activate7 = nn.ReLU(inplace=True)\n",
    "        self.dropout7 = nn.Dropout()\n",
    "        self.layer7 = nn.Sequential(self.fc2, self.activate7, self.dropout7)\n",
    "        \n",
    "        self.fc3 = nn.Linear(in_features=4096, out_features=1000)\n",
    "        self.activate8 = nn.ReLU(inplace=True)\n",
    "        self.dropout8 = nn.Dropout()\n",
    "        self.layer8 = nn.Sequential(self.fc3, self.activate8, self.dropout8)\n",
    "        \n",
    "    def forward(self, x):\n",
    "#         x = self.layer3(self.layer2(self.layer1(x)))\n",
    "#         print(x.size())\n",
    "        x = self.layer5(self.layer4(self.layer3(self.layer2(self.layer1(x)))))\n",
    "        x = x.view(-1, 6*6*256)\n",
    "        x = self.layer8(self.layer7(self.layer6(x)))\n",
    "        return x\n",
    "        "
   ]
  },
  {
   "cell_type": "code",
   "execution_count": 49,
   "metadata": {},
   "outputs": [
    {
     "name": "stdout",
     "output_type": "stream",
     "text": [
      "torch.Size([1, 1000])\n"
     ]
    }
   ],
   "source": [
    "net = AlexNet()\n",
    "# print(net)\n",
    "input_data = t.randn(1, 3, 227, 227)\n",
    "out = net(input_data)\n",
    "print(out.size())"
   ]
  },
  {
   "cell_type": "code",
   "execution_count": null,
   "metadata": {},
   "outputs": [],
   "source": []
  },
  {
   "cell_type": "code",
   "execution_count": null,
   "metadata": {},
   "outputs": [],
   "source": []
  },
  {
   "cell_type": "code",
   "execution_count": null,
   "metadata": {},
   "outputs": [],
   "source": []
  }
 ],
 "metadata": {
  "kernelspec": {
   "display_name": "Python 3",
   "language": "python",
   "name": "python3"
  },
  "language_info": {
   "codemirror_mode": {
    "name": "ipython",
    "version": 3
   },
   "file_extension": ".py",
   "mimetype": "text/x-python",
   "name": "python",
   "nbconvert_exporter": "python",
   "pygments_lexer": "ipython3",
   "version": "3.5.0"
  }
 },
 "nbformat": 4,
 "nbformat_minor": 2
}
