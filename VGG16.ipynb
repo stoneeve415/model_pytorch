{
 "cells": [
  {
   "cell_type": "markdown",
   "metadata": {},
   "source": [
    "<img src=\"imgs/VGG16.png\">"
   ]
  },
  {
   "cell_type": "code",
   "execution_count": 1,
   "metadata": {},
   "outputs": [],
   "source": [
    "import torch as t\n",
    "import torch.nn as nn"
   ]
  },
  {
   "cell_type": "code",
   "execution_count": 24,
   "metadata": {},
   "outputs": [],
   "source": [
    "class VGG16(nn.Module):\n",
    "    def __init__(self):\n",
    "        super(VGG16, self).__init__()\n",
    "        self.conv1 = nn.Conv2d(in_channels=3, out_channels=64, kernel_size=(3,3), stride=1, padding=1)\n",
    "        self.activate1 = nn.ReLU(inplace=True)\n",
    "        self.layer1 = nn.Sequential(self.conv1, self.activate1)\n",
    "        \n",
    "        self.conv2 = nn.Conv2d(in_channels=64, out_channels=64, kernel_size=(3,3), stride=1, padding=1)\n",
    "        self.activate2 = nn.ReLU(inplace=True)\n",
    "        self.pool1 = nn.MaxPool2d(kernel_size=(2,2), stride=2)\n",
    "        self.layer2 = nn.Sequential(self.conv2, self.activate2, self.pool1)\n",
    "        \n",
    "        self.conv3 = nn.Conv2d(in_channels=64, out_channels=128, kernel_size=(3,3), stride=1, padding=1)\n",
    "        self.activate3 = nn.ReLU(inplace=True)\n",
    "        self.layer3 = nn.Sequential(self.conv3, self.activate3)\n",
    "        \n",
    "        self.conv4 = nn.Conv2d(in_channels=128, out_channels=128, kernel_size=3, stride=1, padding=1)\n",
    "        self.activate4 = nn.ReLU(inplace=True)\n",
    "        self.pool2 = nn.MaxPool2d(kernel_size=(2,2), stride=2)\n",
    "        self.layer4 = nn.Sequential(self.conv4, self.activate4, self.pool2)\n",
    "        \n",
    "        self.conv5 = nn.Conv2d(in_channels=128, out_channels=256, kernel_size=(3,3), stride=1, padding=1)\n",
    "        self.activate5 = nn.ReLU(inplace=True)\n",
    "        self.layer5 = nn.Sequential(self.conv5, self.activate5)\n",
    "        \n",
    "        self.conv6 = nn.Conv2d(in_channels=256, out_channels=256, kernel_size=(3,3), stride=1, padding=1)\n",
    "        self.activate6 = nn.ReLU(inplace=True)\n",
    "        self.layer6 = nn.Sequential(self.conv6, self.activate6)\n",
    "        \n",
    "        self.conv7 = nn.Conv2d(in_channels=256, out_channels=256, kernel_size=3, stride=1, padding=1)\n",
    "        self.activate7 = nn.ReLU(inplace=True)\n",
    "        self.pool3 = nn.MaxPool2d(kernel_size=(2,2), stride=2)\n",
    "        self.layer7 = nn.Sequential(self.conv7, self.activate7, self.pool3)\n",
    "        \n",
    "        self.conv8 = nn.Conv2d(in_channels=256, out_channels=512, kernel_size=(3,3), stride=1, padding=1)\n",
    "        self.activate8 = nn.ReLU(inplace=True)\n",
    "        self.layer8 = nn.Sequential(self.conv8, self.activate8)\n",
    "        \n",
    "        self.conv9 = nn.Conv2d(in_channels=512, out_channels=512, kernel_size=(3,3), stride=1, padding=1)\n",
    "        self.activate9 = nn.ReLU(inplace=True)\n",
    "        self.layer9 = nn.Sequential(self.conv9, self.activate9)\n",
    "        \n",
    "        self.conv10 = nn.Conv2d(in_channels=512, out_channels=512, kernel_size=3, stride=1, padding=1)\n",
    "        self.activate10 = nn.ReLU(inplace=True)\n",
    "        self.pool4 = nn.MaxPool2d(kernel_size=(2,2), stride=2)\n",
    "        self.layer10 = nn.Sequential(self.conv10, self.activate10, self.pool4)\n",
    "        \n",
    "        self.conv11 = nn.Conv2d(in_channels=512, out_channels=512, kernel_size=(3,3), stride=1, padding=1)\n",
    "        self.activate11 = nn.ReLU(inplace=True)\n",
    "        self.layer11 = nn.Sequential(self.conv11, self.activate11)\n",
    "        \n",
    "        self.conv12 = nn.Conv2d(in_channels=512, out_channels=512, kernel_size=(3,3), stride=1, padding=1)\n",
    "        self.activate12 = nn.ReLU(inplace=True)\n",
    "        self.layer12 = nn.Sequential(self.conv12, self.activate12)\n",
    "        \n",
    "        self.conv13 = nn.Conv2d(in_channels=512, out_channels=512, kernel_size=3, stride=1, padding=1)\n",
    "        self.activate13 = nn.ReLU(inplace=True)\n",
    "        self.pool5 = nn.MaxPool2d(kernel_size=(2,2), stride=2)\n",
    "        self.layer13 = nn.Sequential(self.conv13, self.activate13, self.pool5)\n",
    "        \n",
    "        self.fc1 = nn.Linear(in_features=512*7*7, out_features=4096)\n",
    "        self.activate14 = nn.ReLU(inplace=True)\n",
    "        self.drop14 = nn.Dropout()\n",
    "        self.layer14 = nn.Sequential(self.fc1, self.activate14, self.drop14)\n",
    "        \n",
    "        self.fc2 = nn.Linear(in_features=4096, out_features=4096)\n",
    "        self.activate15 = nn.ReLU(inplace=True)\n",
    "        self.drop15 = nn.Dropout()\n",
    "        self.layer15 = nn.Sequential(self.fc2, self.activate15, self.drop15)\n",
    "        \n",
    "        self.fc3 = nn.Linear(in_features=4096, out_features=1000)\n",
    "        self.layer16 = nn.Sequential(self.fc3)\n",
    "        \n",
    "    def forward(self, x):\n",
    "        x = self.layer2(self.layer1(x))\n",
    "        x = self.layer4(self.layer3(x))\n",
    "        x = self.layer7(self.layer6(self.layer5(x)))\n",
    "        x = self.layer10(self.layer9(self.layer8(x)))\n",
    "        x = self.layer13(self.layer12(self.layer11(x)))\n",
    "        x = x.view(x.size()[0], -1)\n",
    "        x = self.layer16(self.layer15(self.layer14(x)))\n",
    "        return x"
   ]
  },
  {
   "cell_type": "code",
   "execution_count": 25,
   "metadata": {},
   "outputs": [
    {
     "name": "stdout",
     "output_type": "stream",
     "text": [
      "torch.Size([10, 1000])\n"
     ]
    }
   ],
   "source": [
    "net = VGG16()\n",
    "input_data = t.randn(10, 3,  224, 224)\n",
    "output = net(input_data)\n",
    "print(output.size())"
   ]
  },
  {
   "cell_type": "code",
   "execution_count": null,
   "metadata": {},
   "outputs": [],
   "source": []
  }
 ],
 "metadata": {
  "kernelspec": {
   "display_name": "Python 3",
   "language": "python",
   "name": "python3"
  },
  "language_info": {
   "codemirror_mode": {
    "name": "ipython",
    "version": 3
   },
   "file_extension": ".py",
   "mimetype": "text/x-python",
   "name": "python",
   "nbconvert_exporter": "python",
   "pygments_lexer": "ipython3",
   "version": "3.5.0"
  }
 },
 "nbformat": 4,
 "nbformat_minor": 2
}
